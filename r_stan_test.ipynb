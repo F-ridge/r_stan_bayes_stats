{
 "cells": [
  {
   "cell_type": "code",
   "execution_count": 2,
   "id": "2126e8b4-1192-43e9-8c8f-b543ec836cfc",
   "metadata": {},
   "outputs": [],
   "source": [
    "library(rstan)"
   ]
  },
  {
   "cell_type": "code",
   "execution_count": 3,
   "id": "a84b74d8-9dda-4315-b08c-27ea6786b986",
   "metadata": {},
   "outputs": [],
   "source": [
    "rstan_options(auto_write = TRUE)\n",
    "options(mc.cores = parallel::detectCores())"
   ]
  }
 ],
 "metadata": {
  "kernelspec": {
   "display_name": "R",
   "language": "R",
   "name": "ir"
  },
  "language_info": {
   "codemirror_mode": "r",
   "file_extension": ".r",
   "mimetype": "text/x-r-source",
   "name": "R",
   "pygments_lexer": "r",
   "version": "4.1.2"
  }
 },
 "nbformat": 4,
 "nbformat_minor": 5
}
