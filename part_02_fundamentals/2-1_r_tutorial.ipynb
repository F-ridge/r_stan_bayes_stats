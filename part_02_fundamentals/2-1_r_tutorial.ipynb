{
 "cells": [
  {
   "cell_type": "code",
   "execution_count": 1,
   "id": "7c737c04-2b04-40c0-b547-a2bf7314d68e",
   "metadata": {},
   "outputs": [
    {
     "data": {
      "text/html": [
       "<style>\n",
       ".list-inline {list-style: none; margin:0; padding: 0}\n",
       ".list-inline>li {display: inline-block}\n",
       ".list-inline>li:not(:last-child)::after {content: \"\\00b7\"; padding: 0 .5ex}\n",
       "</style>\n",
       "<ol class=list-inline><li>1</li><li>2</li><li>3</li><li>4</li><li>5</li></ol>\n"
      ],
      "text/latex": [
       "\\begin{enumerate*}\n",
       "\\item 1\n",
       "\\item 2\n",
       "\\item 3\n",
       "\\item 4\n",
       "\\item 5\n",
       "\\end{enumerate*}\n"
      ],
      "text/markdown": [
       "1. 1\n",
       "2. 2\n",
       "3. 3\n",
       "4. 4\n",
       "5. 5\n",
       "\n",
       "\n"
      ],
      "text/plain": [
       "[1] 1 2 3 4 5"
      ]
     },
     "metadata": {},
     "output_type": "display_data"
    }
   ],
   "source": [
    "vector_1 = c(1, 2, 3, 4, 5)\n",
    "vector_1"
   ]
  },
  {
   "cell_type": "code",
   "execution_count": 2,
   "id": "5dc8be68-06e4-4d7f-ac7d-d7e0edf26865",
   "metadata": {},
   "outputs": [
    {
     "data": {
      "text/html": [
       "<table class=\"dataframe\">\n",
       "<caption>A matrix: 2 × 5 of type int</caption>\n",
       "<tbody>\n",
       "\t<tr><td>1</td><td>2</td><td>3</td><td>4</td><td> 5</td></tr>\n",
       "\t<tr><td>6</td><td>7</td><td>8</td><td>9</td><td>10</td></tr>\n",
       "</tbody>\n",
       "</table>\n"
      ],
      "text/latex": [
       "A matrix: 2 × 5 of type int\n",
       "\\begin{tabular}{lllll}\n",
       "\t 1 & 2 & 3 & 4 &  5\\\\\n",
       "\t 6 & 7 & 8 & 9 & 10\\\\\n",
       "\\end{tabular}\n"
      ],
      "text/markdown": [
       "\n",
       "A matrix: 2 × 5 of type int\n",
       "\n",
       "| 1 | 2 | 3 | 4 |  5 |\n",
       "| 6 | 7 | 8 | 9 | 10 |\n",
       "\n"
      ],
      "text/plain": [
       "     [,1] [,2] [,3] [,4] [,5]\n",
       "[1,] 1    2    3    4     5  \n",
       "[2,] 6    7    8    9    10  "
      ]
     },
     "metadata": {},
     "output_type": "display_data"
    }
   ],
   "source": [
    "matrix_1 = matrix(\n",
    "    data = 1:10,\n",
    "    nrow = 2,\n",
    "    byrow = TRUE\n",
    ")\n",
    "matrix_1"
   ]
  },
  {
   "cell_type": "code",
   "execution_count": 3,
   "id": "02f09c45-f744-4254-9547-0672e4d24246",
   "metadata": {},
   "outputs": [
    {
     "data": {
      "text/html": [
       "<table class=\"dataframe\">\n",
       "<caption>A matrix: 2 × 5 of type int</caption>\n",
       "<tbody>\n",
       "\t<tr><td>1</td><td>3</td><td>5</td><td>7</td><td> 9</td></tr>\n",
       "\t<tr><td>2</td><td>4</td><td>6</td><td>8</td><td>10</td></tr>\n",
       "</tbody>\n",
       "</table>\n"
      ],
      "text/latex": [
       "A matrix: 2 × 5 of type int\n",
       "\\begin{tabular}{lllll}\n",
       "\t 1 & 3 & 5 & 7 &  9\\\\\n",
       "\t 2 & 4 & 6 & 8 & 10\\\\\n",
       "\\end{tabular}\n"
      ],
      "text/markdown": [
       "\n",
       "A matrix: 2 × 5 of type int\n",
       "\n",
       "| 1 | 3 | 5 | 7 |  9 |\n",
       "| 2 | 4 | 6 | 8 | 10 |\n",
       "\n"
      ],
      "text/plain": [
       "     [,1] [,2] [,3] [,4] [,5]\n",
       "[1,] 1    3    5    7     9  \n",
       "[2,] 2    4    6    8    10  "
      ]
     },
     "metadata": {},
     "output_type": "display_data"
    }
   ],
   "source": [
    "matrix(\n",
    "    data = 1:10,\n",
    "    nrow = 2,\n",
    "    # byrow = FALSE\n",
    ")"
   ]
  },
  {
   "cell_type": "code",
   "execution_count": 4,
   "id": "a8cc945b-57c0-4b53-81ce-b772e2312d66",
   "metadata": {},
   "outputs": [
    {
     "data": {
      "text/html": [
       "<table class=\"dataframe\">\n",
       "<caption>A matrix: 2 × 5 of type int</caption>\n",
       "<thead>\n",
       "\t<tr><th></th><th scope=col>nya_1</th><th scope=col>nya_2</th><th scope=col>nya_3</th><th scope=col>nya_4</th><th scope=col>nya_5</th></tr>\n",
       "</thead>\n",
       "<tbody>\n",
       "\t<tr><th scope=row>neko_1</th><td>1</td><td>2</td><td>3</td><td>4</td><td> 5</td></tr>\n",
       "\t<tr><th scope=row>neko_2</th><td>6</td><td>7</td><td>8</td><td>9</td><td>10</td></tr>\n",
       "</tbody>\n",
       "</table>\n"
      ],
      "text/latex": [
       "A matrix: 2 × 5 of type int\n",
       "\\begin{tabular}{r|lllll}\n",
       "  & nya\\_1 & nya\\_2 & nya\\_3 & nya\\_4 & nya\\_5\\\\\n",
       "\\hline\n",
       "\tneko\\_1 & 1 & 2 & 3 & 4 &  5\\\\\n",
       "\tneko\\_2 & 6 & 7 & 8 & 9 & 10\\\\\n",
       "\\end{tabular}\n"
      ],
      "text/markdown": [
       "\n",
       "A matrix: 2 × 5 of type int\n",
       "\n",
       "| <!--/--> | nya_1 | nya_2 | nya_3 | nya_4 | nya_5 |\n",
       "|---|---|---|---|---|---|\n",
       "| neko_1 | 1 | 2 | 3 | 4 |  5 |\n",
       "| neko_2 | 6 | 7 | 8 | 9 | 10 |\n",
       "\n"
      ],
      "text/plain": [
       "       nya_1 nya_2 nya_3 nya_4 nya_5\n",
       "neko_1 1     2     3     4      5   \n",
       "neko_2 6     7     8     9     10   "
      ]
     },
     "metadata": {},
     "output_type": "display_data"
    }
   ],
   "source": [
    "rownames(matrix_1) = c(\"neko_1\", \"neko_2\")\n",
    "colnames(matrix_1) = c(\"nya_1\", \"nya_2\", \"nya_3\", \"nya_4\", \"nya_5\")\n",
    "matrix_1"
   ]
  },
  {
   "cell_type": "code",
   "execution_count": 5,
   "id": "08b720f2-9d6b-4385-acde-486fd0e080ba",
   "metadata": {},
   "outputs": [
    {
     "name": "stdout",
     "output_type": "stream",
     "text": [
      ", , 1\n",
      "\n",
      "     [,1] [,2] [,3] [,4] [,5]\n",
      "[1,]    1    4    7   10   13\n",
      "[2,]    2    5    8   11   14\n",
      "[3,]    3    6    9   12   15\n",
      "\n",
      ", , 2\n",
      "\n",
      "     [,1] [,2] [,3] [,4] [,5]\n",
      "[1,]   16   19   22   25   28\n",
      "[2,]   17   20   23   26   29\n",
      "[3,]   18   21   24   27   30\n",
      "\n"
     ]
    }
   ],
   "source": [
    "array_1 = array(\n",
    "    data = 1:30,\n",
    "    dim = c(3, 5, 2)\n",
    ")\n",
    "print(array_1)"
   ]
  },
  {
   "cell_type": "code",
   "execution_count": 6,
   "id": "f6985ad2-0a5a-4247-ab34-d8117e5c9c86",
   "metadata": {},
   "outputs": [
    {
     "data": {
      "text/html": [
       "<table class=\"dataframe\">\n",
       "<caption>A data.frame: 5 × 2</caption>\n",
       "<thead>\n",
       "\t<tr><th scope=col>col1</th><th scope=col>col2</th></tr>\n",
       "\t<tr><th scope=col>&lt;chr&gt;</th><th scope=col>&lt;int&gt;</th></tr>\n",
       "</thead>\n",
       "<tbody>\n",
       "\t<tr><td>A</td><td>1</td></tr>\n",
       "\t<tr><td>B</td><td>2</td></tr>\n",
       "\t<tr><td>C</td><td>3</td></tr>\n",
       "\t<tr><td>D</td><td>4</td></tr>\n",
       "\t<tr><td>E</td><td>5</td></tr>\n",
       "</tbody>\n",
       "</table>\n"
      ],
      "text/latex": [
       "A data.frame: 5 × 2\n",
       "\\begin{tabular}{ll}\n",
       " col1 & col2\\\\\n",
       " <chr> & <int>\\\\\n",
       "\\hline\n",
       "\t A & 1\\\\\n",
       "\t B & 2\\\\\n",
       "\t C & 3\\\\\n",
       "\t D & 4\\\\\n",
       "\t E & 5\\\\\n",
       "\\end{tabular}\n"
      ],
      "text/markdown": [
       "\n",
       "A data.frame: 5 × 2\n",
       "\n",
       "| col1 &lt;chr&gt; | col2 &lt;int&gt; |\n",
       "|---|---|\n",
       "| A | 1 |\n",
       "| B | 2 |\n",
       "| C | 3 |\n",
       "| D | 4 |\n",
       "| E | 5 |\n",
       "\n"
      ],
      "text/plain": [
       "  col1 col2\n",
       "1 A    1   \n",
       "2 B    2   \n",
       "3 C    3   \n",
       "4 D    4   \n",
       "5 E    5   "
      ]
     },
     "metadata": {},
     "output_type": "display_data"
    }
   ],
   "source": [
    "data_frame_1 = data.frame(\n",
    "    col1 = c(\"A\", \"B\", \"C\", \"D\", \"E\"),\n",
    "    col2 = 1:5\n",
    ")\n",
    "data_frame_1"
   ]
  },
  {
   "cell_type": "code",
   "execution_count": 7,
   "id": "9dc069df-2a12-4999-a5f6-8a3987f91aeb",
   "metadata": {},
   "outputs": [
    {
     "data": {
      "text/html": [
       "5"
      ],
      "text/latex": [
       "5"
      ],
      "text/markdown": [
       "5"
      ],
      "text/plain": [
       "[1] 5"
      ]
     },
     "metadata": {},
     "output_type": "display_data"
    }
   ],
   "source": [
    "nrow(data_frame_1)"
   ]
  },
  {
   "cell_type": "code",
   "execution_count": 8,
   "id": "f10dceb5-e696-44a5-9ef0-65ce47e89fd1",
   "metadata": {},
   "outputs": [],
   "source": [
    "list_1 = list(\n",
    "    char = c(\"A\", \"B\", \"C\"),\n",
    "    mat = matrix_1,\n",
    "    df = data_frame_1\n",
    ")"
   ]
  },
  {
   "cell_type": "code",
   "execution_count": 9,
   "id": "c5ac9947-4292-4821-a4c0-51fdf0e77a16",
   "metadata": {},
   "outputs": [
    {
     "data": {
      "text/html": [
       "<dl>\n",
       "\t<dt>$char</dt>\n",
       "\t\t<dd><style>\n",
       ".list-inline {list-style: none; margin:0; padding: 0}\n",
       ".list-inline>li {display: inline-block}\n",
       ".list-inline>li:not(:last-child)::after {content: \"\\00b7\"; padding: 0 .5ex}\n",
       "</style>\n",
       "<ol class=list-inline><li>'A'</li><li>'B'</li><li>'C'</li></ol>\n",
       "</dd>\n",
       "\t<dt>$mat</dt>\n",
       "\t\t<dd><table class=\"dataframe\">\n",
       "<caption>A matrix: 2 × 5 of type int</caption>\n",
       "<thead>\n",
       "\t<tr><th></th><th scope=col>nya_1</th><th scope=col>nya_2</th><th scope=col>nya_3</th><th scope=col>nya_4</th><th scope=col>nya_5</th></tr>\n",
       "</thead>\n",
       "<tbody>\n",
       "\t<tr><th scope=row>neko_1</th><td>1</td><td>2</td><td>3</td><td>4</td><td> 5</td></tr>\n",
       "\t<tr><th scope=row>neko_2</th><td>6</td><td>7</td><td>8</td><td>9</td><td>10</td></tr>\n",
       "</tbody>\n",
       "</table>\n",
       "</dd>\n",
       "\t<dt>$df</dt>\n",
       "\t\t<dd><table class=\"dataframe\">\n",
       "<caption>A data.frame: 5 × 2</caption>\n",
       "<thead>\n",
       "\t<tr><th scope=col>col1</th><th scope=col>col2</th></tr>\n",
       "\t<tr><th scope=col>&lt;chr&gt;</th><th scope=col>&lt;int&gt;</th></tr>\n",
       "</thead>\n",
       "<tbody>\n",
       "\t<tr><td>A</td><td>1</td></tr>\n",
       "\t<tr><td>B</td><td>2</td></tr>\n",
       "\t<tr><td>C</td><td>3</td></tr>\n",
       "\t<tr><td>D</td><td>4</td></tr>\n",
       "\t<tr><td>E</td><td>5</td></tr>\n",
       "</tbody>\n",
       "</table>\n",
       "</dd>\n",
       "</dl>\n"
      ],
      "text/latex": [
       "\\begin{description}\n",
       "\\item[\\$char] \\begin{enumerate*}\n",
       "\\item 'A'\n",
       "\\item 'B'\n",
       "\\item 'C'\n",
       "\\end{enumerate*}\n",
       "\n",
       "\\item[\\$mat] A matrix: 2 × 5 of type int\n",
       "\\begin{tabular}{r|lllll}\n",
       "  & nya\\_1 & nya\\_2 & nya\\_3 & nya\\_4 & nya\\_5\\\\\n",
       "\\hline\n",
       "\tneko\\_1 & 1 & 2 & 3 & 4 &  5\\\\\n",
       "\tneko\\_2 & 6 & 7 & 8 & 9 & 10\\\\\n",
       "\\end{tabular}\n",
       "\n",
       "\\item[\\$df] A data.frame: 5 × 2\n",
       "\\begin{tabular}{ll}\n",
       " col1 & col2\\\\\n",
       " <chr> & <int>\\\\\n",
       "\\hline\n",
       "\t A & 1\\\\\n",
       "\t B & 2\\\\\n",
       "\t C & 3\\\\\n",
       "\t D & 4\\\\\n",
       "\t E & 5\\\\\n",
       "\\end{tabular}\n",
       "\n",
       "\\end{description}\n"
      ],
      "text/markdown": [
       "$char\n",
       ":   1. 'A'\n",
       "2. 'B'\n",
       "3. 'C'\n",
       "\n",
       "\n",
       "\n",
       "$mat\n",
       ":   \n",
       "A matrix: 2 × 5 of type int\n",
       "\n",
       "| <!--/--> | nya_1 | nya_2 | nya_3 | nya_4 | nya_5 |\n",
       "|---|---|---|---|---|---|\n",
       "| neko_1 | 1 | 2 | 3 | 4 |  5 |\n",
       "| neko_2 | 6 | 7 | 8 | 9 | 10 |\n",
       "\n",
       "\n",
       "$df\n",
       ":   \n",
       "A data.frame: 5 × 2\n",
       "\n",
       "| col1 &lt;chr&gt; | col2 &lt;int&gt; |\n",
       "|---|---|\n",
       "| A | 1 |\n",
       "| B | 2 |\n",
       "| C | 3 |\n",
       "| D | 4 |\n",
       "| E | 5 |\n",
       "\n",
       "\n",
       "\n",
       "\n"
      ],
      "text/plain": [
       "$char\n",
       "[1] \"A\" \"B\" \"C\"\n",
       "\n",
       "$mat\n",
       "       nya_1 nya_2 nya_3 nya_4 nya_5\n",
       "neko_1     1     2     3     4     5\n",
       "neko_2     6     7     8     9    10\n",
       "\n",
       "$df\n",
       "  col1 col2\n",
       "1    A    1\n",
       "2    B    2\n",
       "3    C    3\n",
       "4    D    4\n",
       "5    E    5\n"
      ]
     },
     "metadata": {},
     "output_type": "display_data"
    }
   ],
   "source": [
    "list_1"
   ]
  },
  {
   "cell_type": "code",
   "execution_count": 10,
   "id": "0991726c-beae-48c2-8139-6436c40d225e",
   "metadata": {},
   "outputs": [
    {
     "data": {
      "text/html": [
       "<table class=\"dataframe\">\n",
       "<caption>A data.frame: 5 × 2</caption>\n",
       "<thead>\n",
       "\t<tr><th scope=col>col1</th><th scope=col>col2</th></tr>\n",
       "\t<tr><th scope=col>&lt;chr&gt;</th><th scope=col>&lt;int&gt;</th></tr>\n",
       "</thead>\n",
       "<tbody>\n",
       "\t<tr><td>A</td><td>1</td></tr>\n",
       "\t<tr><td>B</td><td>2</td></tr>\n",
       "\t<tr><td>C</td><td>3</td></tr>\n",
       "\t<tr><td>D</td><td>4</td></tr>\n",
       "\t<tr><td>E</td><td>5</td></tr>\n",
       "</tbody>\n",
       "</table>\n"
      ],
      "text/latex": [
       "A data.frame: 5 × 2\n",
       "\\begin{tabular}{ll}\n",
       " col1 & col2\\\\\n",
       " <chr> & <int>\\\\\n",
       "\\hline\n",
       "\t A & 1\\\\\n",
       "\t B & 2\\\\\n",
       "\t C & 3\\\\\n",
       "\t D & 4\\\\\n",
       "\t E & 5\\\\\n",
       "\\end{tabular}\n"
      ],
      "text/markdown": [
       "\n",
       "A data.frame: 5 × 2\n",
       "\n",
       "| col1 &lt;chr&gt; | col2 &lt;int&gt; |\n",
       "|---|---|\n",
       "| A | 1 |\n",
       "| B | 2 |\n",
       "| C | 3 |\n",
       "| D | 4 |\n",
       "| E | 5 |\n",
       "\n"
      ],
      "text/plain": [
       "  col1 col2\n",
       "1 A    1   \n",
       "2 B    2   \n",
       "3 C    3   \n",
       "4 D    4   \n",
       "5 E    5   "
      ]
     },
     "metadata": {},
     "output_type": "display_data"
    }
   ],
   "source": [
    "list_1$df"
   ]
  },
  {
   "cell_type": "code",
   "execution_count": 11,
   "id": "8123bee5-da17-4d57-a79e-e2be2abd9fb2",
   "metadata": {},
   "outputs": [
    {
     "name": "stdout",
     "output_type": "stream",
     "text": [
      "[1] 1 2 3 4 5\n",
      "[1] 1\n"
     ]
    }
   ],
   "source": [
    "print(vector_1)\n",
    "print(vector_1[1])"
   ]
  },
  {
   "cell_type": "code",
   "execution_count": 12,
   "id": "d9e1fa25-5ac2-4771-9929-71ba10f2d3a4",
   "metadata": {},
   "outputs": [
    {
     "name": "stdout",
     "output_type": "stream",
     "text": [
      "       nya_1 nya_2 nya_3 nya_4 nya_5\n",
      "neko_1     1     2     3     4     5\n",
      "neko_2     6     7     8     9    10\n",
      "nya_1 nya_2 nya_3 nya_4 nya_5 \n",
      "    1     2     3     4     5 \n",
      "neko_1 neko_2 \n",
      "     2      7 \n",
      "[1] 2\n",
      "nya_2 nya_3 nya_4 \n",
      "    2     3     4 \n",
      "[1] 2 5\n",
      "[[1]]\n",
      "[1] \"neko_1\" \"neko_2\"\n",
      "\n",
      "[[2]]\n",
      "[1] \"nya_1\" \"nya_2\" \"nya_3\" \"nya_4\" \"nya_5\"\n",
      "\n",
      "[1] 2\n"
     ]
    }
   ],
   "source": [
    "print(matrix_1)\n",
    "print(matrix_1[1,])\n",
    "print(matrix_1[,2])\n",
    "print(matrix_1[1,2])\n",
    "print(matrix_1[1,2:4])\n",
    "print(dim(matrix_1))\n",
    "print(dimnames(matrix_1))\n",
    "print(matrix_1[\"neko_1\",\"nya_2\"])"
   ]
  },
  {
   "cell_type": "code",
   "execution_count": 13,
   "id": "f70ec07c-06f0-4377-92b2-9f444416c2ad",
   "metadata": {},
   "outputs": [
    {
     "name": "stdout",
     "output_type": "stream",
     "text": [
      ", , 1\n",
      "\n",
      "     [,1] [,2] [,3] [,4] [,5]\n",
      "[1,]    1    4    7   10   13\n",
      "[2,]    2    5    8   11   14\n",
      "[3,]    3    6    9   12   15\n",
      "\n",
      ", , 2\n",
      "\n",
      "     [,1] [,2] [,3] [,4] [,5]\n",
      "[1,]   16   19   22   25   28\n",
      "[2,]   17   20   23   26   29\n",
      "[3,]   18   21   24   27   30\n",
      "\n",
      "     [,1] [,2]\n",
      "[1,]    1   16\n",
      "[2,]    4   19\n",
      "[3,]    7   22\n",
      "[4,]   10   25\n",
      "[5,]   13   28\n",
      "[1]  4 19\n",
      "[1] 4\n",
      "     [,1] [,2] [,3] [,4] [,5]\n",
      "[1,]    1    4    7   10   13\n",
      "[2,]    2    5    8   11   14\n",
      "[3,]    3    6    9   12   15\n",
      "[1] 3 5 2\n"
     ]
    }
   ],
   "source": [
    "print(array_1)\n",
    "print(array_1[1,,])\n",
    "print(array_1[1,2,])\n",
    "print(array_1[1,2,1])\n",
    "print(array_1[,,1])\n",
    "print(dim(array_1))"
   ]
  },
  {
   "cell_type": "code",
   "execution_count": 14,
   "id": "679151f6-25a6-49b2-ba8c-f88e35bc67ed",
   "metadata": {},
   "outputs": [
    {
     "name": "stdout",
     "output_type": "stream",
     "text": [
      "  col1 col2\n",
      "1    A    1\n",
      "2    B    2\n",
      "3    C    3\n",
      "4    D    4\n",
      "5    E    5\n",
      "[1] \"A\" \"B\" \"C\" \"D\" \"E\"\n",
      "[1] \"B\"\n",
      "  col1 col2\n",
      "1    A    1\n",
      "2    B    2\n"
     ]
    }
   ],
   "source": [
    "print(data_frame_1)\n",
    "print(data_frame_1$col1)\n",
    "print(data_frame_1$col1[2])\n",
    "print(head(data_frame_1, n=2))"
   ]
  },
  {
   "cell_type": "code",
   "execution_count": 24,
   "id": "073d2f9a-2a04-4182-9af6-5d901e079e93",
   "metadata": {},
   "outputs": [
    {
     "name": "stdout",
     "output_type": "stream",
     "text": [
      "$char\n",
      "[1] \"A\" \"B\" \"C\"\n",
      "\n",
      "$mat\n",
      "       nya_1 nya_2 nya_3 nya_4 nya_5\n",
      "neko_1     1     2     3     4     5\n",
      "neko_2     6     7     8     9    10\n",
      "\n",
      "$df\n",
      "  col1 col2\n",
      "1    A    1\n",
      "2    B    2\n",
      "3    C    3\n",
      "4    D    4\n",
      "5    E    5\n",
      "\n",
      "[1] \"A\" \"B\" \"C\"\n",
      "[1] \"A\" \"B\" \"C\"\n",
      "[1] \"A\" \"B\" \"C\"\n"
     ]
    }
   ],
   "source": [
    "print(list_1)\n",
    "print(list_1$char)\n",
    "print(list_1[[1]])"
   ]
  },
  {
   "cell_type": "code",
   "execution_count": null,
   "id": "bcce9887-a005-4c55-a821-c318e17d455b",
   "metadata": {},
   "outputs": [],
   "source": []
  }
 ],
 "metadata": {
  "kernelspec": {
   "display_name": "R",
   "language": "R",
   "name": "ir"
  },
  "language_info": {
   "codemirror_mode": "r",
   "file_extension": ".r",
   "mimetype": "text/x-r-source",
   "name": "R",
   "pygments_lexer": "r",
   "version": "4.1.2"
  }
 },
 "nbformat": 4,
 "nbformat_minor": 5
}
